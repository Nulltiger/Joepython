{
 "cells": [
  {
   "cell_type": "code",
   "execution_count": null,
   "metadata": {},
   "outputs": [],
   "source": [
    "# import libraries\n",
    "import os\n",
    "\t\n",
    "# navigate to file\n",
    "file = 'raw_data/paragraph_2.txt'\n",
    "\t\n",
    "# declare variables\n",
    "letter_count = 0\n",
    "\t\n",
    "# open file\n",
    "with open(file, 'r') as txtfile:\n",
    "\tparagraph = txtfile.read()\n",
    "\t\n",
    "    # define word count\n",
    "\tword_count = paragraph.count(\" \") + 1\n",
    "\t\n",
    "    # define sentence count\n",
    "\tsentence_count = paragraph.count(\".\") + paragraph.count(\"!\") + paragraph.count(\"?\")\n",
    "\t\n",
    "    # calculate average letter count\n",
    "\tfor character in paragraph:\n",
    "\t    if character.isalpha():\n",
    "\t        letter_count += 1 \n",
    "\tavg_letter_count = letter_count/word_count\n",
    "\t\n",
    "    # define average sentence length\n",
    "\tavg_sentence = word_count/sentence_count\n",
    "\t\n",
    "# print analysis results\n",
    "print(\"Paragraph Analysis\")\n",
    "print(\"------------------\")\n",
    "print(\"Approximate Word Count:\", word_count)\n",
    "print(\"Approximate Sentence Count:\", sentence_count)\n",
    "print(\"Approximate Letter Count:\", avg_letter_count)\n",
    "print(\"Average Sentence Length:\", avg_sentence)\n",
    "\t\n",
    "\n",
    "\t"
   ]
  }
 ],
 "metadata": {
  "kernelspec": {
   "display_name": "Python 3",
   "language": "python",
   "name": "python3"
  },
  "language_info": {
   "codemirror_mode": {
    "name": "ipython",
    "version": 3
   },
   "file_extension": ".py",
   "mimetype": "text/x-python",
   "name": "python",
   "nbconvert_exporter": "python",
   "pygments_lexer": "ipython3",
   "version": "3.6.4"
  }
 },
 "nbformat": 4,
 "nbformat_minor": 2
}
